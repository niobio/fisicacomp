{
 "cells": [
  {
   "cell_type": "markdown",
   "metadata": {},
   "source": [
    "# Moviment Rectilini Uniforme\n",
    "\n",
    "## Funcions en Python\n",
    "\n",
    "Si un mòbil es desplaça amb una velocitat instantània constant diem que té un Moviment Rectilini Uniforme i la seva equació de moviment ve donada per l'expressió\n",
    "\n",
    "$$x = x_0 + v (t - t_0)$$\n",
    "\n",
    "on $t$ correspon al temps i és la variable independent, mentre que $x$ correspon a la posició del mòbil i es coneix com variable dependent. Els altres tres paràmetres que apareixen a l'equació són constants i corresponen a l'instant inicial ($t_0$), la posició inicial ($x_0$) i la velocitat ($v$).\n",
    "\n",
    "L'equació de moviment és una funció que ens dóna la posició del mòbil per a qualsevol instant de temps. Un exemple podria ser:\n",
    "\n",
    "$$x = 2 + 3 (t - 1)$$\n",
    "\n",
    "En aquest cas l'equació ens diu que en l'instant $t_0 = 1\\,\\mathrm{s}$ el mòbil té la posició $x_0 = 2\\,\\mathrm{m}$ i que porta una velocitat constant $v = 3\\,\\mathrm{m/s}$.\n",
    "\n",
    "Amb aquesta equació podem saber quina posició tindrà el mòbil en un temps futur, només cal posar l'instant de temps a l'equació i calcular la posició. Per exemple, a l'instant $t = 5\\,\\mathrm{s}$ trobarem que \n",
    "\n",
    "$$x = 2 + 3 (5 -1) = 14\\,\\mathrm{m}$$\n",
    "\n",
    "que serà la posició del mòbil. Això ho podem fer per a qualsevol instant de temps, per tant, amb l'equació de moviment tenim una eina predictiva, que és el que volem sempre quan fem ciència. En física sempre tractem de formular models no només per entendre el que ja coneixem, sinó també per a poder predir el que passarà!\n",
    "\n",
    "En Python podem crear funcions que ens permetin determinar la posició del mòbil donat l'instant de temps. Per exemple, per a definir la funció del mateix moviment de l'exemple escrivirem el següent codi:"
   ]
  },
  {
   "cell_type": "code",
   "execution_count": 2,
   "metadata": {},
   "outputs": [],
   "source": [
    "## crearem una funció anomenada mru  \n",
    "def mru(t):\n",
    "    x = 2 + 3 * (t - 1)\n",
    "    return x"
   ]
  },
  {
   "cell_type": "markdown",
   "metadata": {},
   "source": [
    "Un cop creada la funció el que podem fer és demanar que ens doni la posició per a qualsevol posició, per exemple podem cridar la funció per a que ens doni la posició als 20 segons:"
   ]
  },
  {
   "cell_type": "code",
   "execution_count": 3,
   "metadata": {},
   "outputs": [
    {
     "data": {
      "text/plain": [
       "59"
      ]
     },
     "execution_count": 3,
     "metadata": {},
     "output_type": "execute_result"
    }
   ],
   "source": [
    "mru(20)"
   ]
  },
  {
   "cell_type": "markdown",
   "metadata": {},
   "source": [
    "Veiem que ens dóna que als 20 segons el mòbil es troba en la posició 59 metres. Podeu intentar trobar la posició per a qualsevol instant de temps. Què passarà si utilitzem tems negatius? Quina interpretació li podem donar al resultat?\n",
    "\n"
   ]
  },
  {
   "cell_type": "markdown",
   "metadata": {},
   "source": [
    "## Visualització de dades de manera gràfica\n"
   ]
  }
 ],
 "metadata": {
  "kernelspec": {
   "display_name": "Python 3",
   "language": "python",
   "name": "python3"
  },
  "language_info": {
   "codemirror_mode": {
    "name": "ipython",
    "version": 3
   },
   "file_extension": ".py",
   "mimetype": "text/x-python",
   "name": "python",
   "nbconvert_exporter": "python",
   "pygments_lexer": "ipython3",
   "version": "3.6.7"
  }
 },
 "nbformat": 4,
 "nbformat_minor": 2
}
